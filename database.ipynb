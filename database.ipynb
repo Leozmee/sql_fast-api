{
 "cells": [
  {
   "cell_type": "code",
   "execution_count": null,
   "metadata": {},
   "outputs": [],
   "source": [
    "import sqlite3\n",
    "import csv\n",
    "import os"
   ]
  },
  {
   "cell_type": "markdown",
   "metadata": {},
   "source": [
    "### Create Performance Table"
   ]
  },
  {
   "cell_type": "code",
   "execution_count": 19,
   "metadata": {},
   "outputs": [
    {
     "name": "stdout",
     "output_type": "stream",
     "text": [
      "Importing sbj_6_Wingate.csv\n",
      "Importing sbj_6_I.csv\n",
      "Importing sbj_7_incremental.csv\n",
      "Importing sbj_4_I.csv\n",
      "Importing sbj_2_II.csv\n",
      "Importing sbj_2_I.csv\n",
      "Importing sbj_3_Wingate.csv\n",
      "Importing sbj_5_I.csv\n",
      "Importing sbj_6_II.csv\n",
      "Importing sbj_1_incremental.csv\n",
      "Importing sbj_7_I.csv\n",
      "Importing sbj_3_I.csv\n",
      "Importing sbj_6_incremental.csv\n",
      "Importing sbj_1_I.csv\n",
      "Importing sbj_4_II.csv\n",
      "Importing sbj_5_Wingate.csv\n",
      "Importing sbj_3_incremental.csv\n",
      "Importing sbj_1_II.csv\n",
      "Importing sbj_2_Wingate.csv\n",
      "Importing sbj_7_Wingate.csv\n",
      "Importing sbj_4_incremental.csv\n",
      "Importing sbj_3_II.csv\n",
      "Importing sbj_4_Wingate.csv\n",
      "Importing sbj_7_II.csv\n",
      "Importing sbj_5_incremental.csv\n",
      "Importing sbj_5_II.csv\n",
      "Importing sbj_2_incremental.csv\n",
      "Importing sbj_1_Wingate.csv\n"
     ]
    }
   ],
   "source": [
    "import sqlite3\n",
    "import csv\n",
    "\n",
    "def main():\n",
    "    conn = sqlite3.connect('cyclist_database.db')\n",
    "    cursor = conn.cursor()\n",
    "\n",
    "    cursor.executescript('''\n",
    "        DROP TABLE IF EXISTS Performance;\n",
    "        CREATE TABLE Performance(\n",
    "            performance_id INTEGER PRIMARY KEY AUTOINCREMENT,\n",
    "            test_id INTEGER NOT NULL DEFAULT 1,\n",
    "            user_id INTEGER NOT NULL DEFAULT 1, \n",
    "            time INTEGER NOT NULL,\n",
    "            power REAL NOT NULL,\n",
    "            oxygen INTEGER NOT NULL,\n",
    "            cadence REAL NOT NULL,\n",
    "            heart_rate REAL NOT NULL,\n",
    "            respiration_frequency REAL NOT NULL,\n",
    "                         \n",
    "            FOREIGN KEY(test_id) REFERENCES Test(test_id),\n",
    "            FOREIGN KEY(user_id) REFERENCES User(id)\n",
    "        );\n",
    "    ''')\n",
    "\n",
    "    for file in os.listdir('data'):\n",
    "        if file.endswith('.csv'):\n",
    "            file_path = os.path.join('data', file)\n",
    "            print('Importing', file)\n",
    "            with open(file_path, 'r', encoding='utf-8') as f:\n",
    "                reader = csv.reader(f)\n",
    "                next(reader, None)\n",
    "                for row in reader:\n",
    "                    cursor.execute(\n",
    "                        \"INSERT INTO Performance(time, oxygen, power, cadence, heart_rate, respiration_frequency) VALUES (?, ?, ?, ?, ?, ?)\",\n",
    "                        row\n",
    "            )\n",
    "    conn.commit()\n",
    "    conn.close()\n",
    "\n",
    "if __name__ == '__main__':\n",
    "    main()"
   ]
  },
  {
   "cell_type": "markdown",
   "metadata": {},
   "source": [
    "### Create User Table"
   ]
  },
  {
   "cell_type": "code",
   "execution_count": 10,
   "metadata": {},
   "outputs": [],
   "source": [
    "import sqlite3\n",
    "import csv\n",
    "\n",
    "def main():\n",
    "    conn = sqlite3.connect('cyclist_database.db')\n",
    "    cursor = conn.cursor()\n",
    "\n",
    "    cursor.executescript('''\n",
    "        DROP TABLE IF EXISTS User;\n",
    "        CREATE TABLE User(\n",
    "            id INTEGER PRIMARY KEY AUTOINCREMENT,\n",
    "            first_name TEXT NOT NULL,\n",
    "            last_name TEXT NOT NULL,\n",
    "            email TEXT NOT NULL,\n",
    "            password TEXT NOT NULL,\n",
    "            is_staff BOOLEAN NOT NULL DEFAULT 0\n",
    "        );\n",
    "    ''')\n",
    "\n",
    "    conn.commit()\n",
    "    conn.close()\n",
    "\n",
    "if __name__ == '__main__':\n",
    "    main()"
   ]
  },
  {
   "cell_type": "markdown",
   "metadata": {},
   "source": [
    "### Create CyclistInfo Table"
   ]
  },
  {
   "cell_type": "code",
   "execution_count": null,
   "metadata": {},
   "outputs": [],
   "source": [
    "import sqlite3\n",
    "import csv\n",
    "\n",
    "def main():\n",
    "    conn = sqlite3.connect('cyclist_database.db')\n",
    "    cursor = conn.cursor()\n",
    "\n",
    "    cursor.executescript('''\n",
    "        DROP TABLE IF EXISTS CyclistInfo;\n",
    "        CREATE TABLE CyclistInfo(\n",
    "            user_id INTEGER PRIMARY KEY,\n",
    "            gender TEXT CHECK(gender IN (\"male\", \"female\")) NOT NULL,\n",
    "            age INTEGER CHECK(age > 0) NOT NULL,\n",
    "            weight REAL NOT NULL,\n",
    "            height REAL NOT NULL,\n",
    "                         \n",
    "            FOREIGN KEY(user_id) REFERENCES User(id)     \n",
    "        );\n",
    "    ''')\n",
    "\n",
    "    conn.commit()\n",
    "    conn.close()\n",
    "\n",
    "if __name__ == '__main__':\n",
    "    main()"
   ]
  },
  {
   "cell_type": "markdown",
   "metadata": {},
   "source": [
    "### Create Test Table"
   ]
  },
  {
   "cell_type": "code",
   "execution_count": null,
   "metadata": {},
   "outputs": [],
   "source": [
    "import sqlite3\n",
    "import csv\n",
    "\n",
    "def main():\n",
    "    conn = sqlite3.connect('cyclist_database.db')\n",
    "    cursor = conn.cursor()\n",
    "\n",
    "    cursor.executescript('''\n",
    "        DROP TABLE IF EXISTS Test;\n",
    "        CREATE TABLE Test(\n",
    "            test_id INTEGER PRIMARY KEY NOT NULL,\n",
    "            user_id INTEGER NOT NULL,\n",
    "            test_type TEXT CHECK(test_type IN (\"trial_1\", \"trial_2\", \"incremental\", \"wingate\")) NOT NULL,\n",
    "                         \n",
    "            FOREIGN KEY(user_id) REFERENCES CyclistInfo(user_id)\n",
    "        );\n",
    "    ''')\n",
    "\n",
    "    conn.commit()\n",
    "    conn.close()\n",
    "\n",
    "if __name__ == '__main__':\n",
    "    main()"
   ]
  },
  {
   "cell_type": "code",
   "execution_count": null,
   "metadata": {},
   "outputs": [],
   "source": [
    "\n",
    "\n",
    "# \n",
    "# "
   ]
  }
 ],
 "metadata": {
  "kernelspec": {
   "display_name": ".venv",
   "language": "python",
   "name": "python3"
  },
  "language_info": {
   "codemirror_mode": {
    "name": "ipython",
    "version": 3
   },
   "file_extension": ".py",
   "mimetype": "text/x-python",
   "name": "python",
   "nbconvert_exporter": "python",
   "pygments_lexer": "ipython3",
   "version": "3.12.3"
  }
 },
 "nbformat": 4,
 "nbformat_minor": 2
}
